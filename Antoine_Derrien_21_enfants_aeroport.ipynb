{
  "nbformat": 4,
  "nbformat_minor": 0,
  "metadata": {
    "colab": {
      "provenance": []
    },
    "kernelspec": {
      "name": "python3",
      "display_name": "Python 3"
    },
    "language_info": {
      "name": "python"
    }
  },
  "cells": [
    {
      "cell_type": "markdown",
      "source": [
        "# **Les enfants à l'aéroport**"
      ],
      "metadata": {
        "id": "-wrbZNgvNraN"
      }
    },
    {
      "cell_type": "markdown",
      "source": [
        "## **1 - Énoncé**\n",
        "\n",
        "Dans le cadre d'une sortie scolaire, 28 enfants visitent la tour de contrôle de l'aéroport qui se trouve proche de leur école. Ils portent des brassards numérotés de 1 à 28.\n",
        "Un tableau de commande dans cette tour de contrôlepermet l'allumage de 196 feux de signalisation pour les différentes pistes d'atterrissage. Ces feux sont commandés par des interrupteurs (boutons poussoirs) numérotés de 1 à 96.\n",
        "\n",
        "Afin de passer le temps, les enfants appuient sur les interrupteurs à tour de rôle :       \n",
        "* L'enfant N°1 appuie sur tous les interrupteurs dont les numéros sont des multiples de 1, c'est-à-dire tous les interrupteurs.\n",
        "* L'enfant N°2 appuie ensuite sur tous les interrupteurs dont les numéros sont des multiples de 2 : 2, 4, 6, 8, etc.\n",
        "* L'enfant N°3 appuie ensuite sur les interrupteurs 3, 6, 9, 12, etc.\n",
        "\n",
        "Tous les enfants appuient donc sur les interrupteur à tour de rôle jusqu'au dernier, l'enfant N°28, qui appuie alors sur les interrupteurs 28, 56, 84, 112, etc.\n",
        "\n",
        "Avant l'arrivée des enfants, tous les feux de signalisation étaient éteints.\n"
      ],
      "metadata": {
        "id": "hDpjC1_0Nx4s"
      }
    },
    {
      "cell_type": "markdown",
      "source": [
        "## **2 - Travail demandé**\n",
        "\n",
        "Niveau ☀\n",
        "\n",
        "Écrire un algorithme puis un programme permettant d'afficher l'état des feux de signalisation après le passage des 28 enfants. Pour cela, afficher un vecteur ligne comportant des 0 (pour les feux éteints) et des 1 (pour les feux allumés). Afficher également le nombre de feux de signalisation allumés.\n",
        "\n",
        "\n",
        "Niveau ☀☀\n",
        "\n",
        "Modifier le programme afin qu'il soit possible de choisir le nombre d'enfants, $E$, et le nombre de feux de signalisation, $N$. Le programme doit afficher l'état des feux ainsi que la liste des feux allumés.\n",
        "Lancer le programme avec $N = 196$ et $E = 196$. Quelle remarque peut-on faire à propos des numéros des feux allumés ?\n",
        "\n",
        "Niveau ☀☀☀\n",
        "\n",
        "Modifier le programme afin de répondre au problème suivant :       \n",
        "Lorsque $N = 196$, représenter le nuage de points du nombre de feux allumés après le passage des enfants en fonction du nombre d'enfants, $E$.\n",
        "Remarque : afin de limiter les temps de calcul, on prendra des multiples de 28 pour le nombre d'enfants : 28, 56, 84, ..., 196."
      ],
      "metadata": {
        "id": "pQWjypphORYY"
      }
    },
    {
      "cell_type": "markdown",
      "source": [
        "## **3 - Les fonctions à utiliser**\n",
        "\n",
        "```\n",
        "input()\n",
        "zeros()\n",
        "linspace()\n",
        "a%b\n",
        "int()\n",
        "sum()\n",
        "print()\n",
        "plot()\n",
        "show()\n",
        "```\n",
        "\n"
      ],
      "metadata": {
        "id": "Ye1DKm1XRN0F"
      }
    },
    {
      "cell_type": "markdown",
      "source": [
        "définir vecteur A\n",
        "pour e allant de 1 à 28\n",
        "pour i allant de 1 à 196\n",
        "si modulo(1 diviser par e)==0\n",
        "si A(i)==0\n",
        "alors A(1)=1\n",
        "sinon A (i)=0\n",
        "afficher état des feux\n",
        "afficher A"
      ],
      "metadata": {
        "id": "ReSns8P-E2s-"
      }
    },
    {
      "cell_type": "markdown",
      "source": [
        "## **4 - Solution de niveau ☀**"
      ],
      "metadata": {
        "id": "Z_R4ISsaRhR2"
      }
    },
    {
      "cell_type": "code",
      "source": [
        "import numpy as np\n",
        "# on va chercher dans le dictionaire np.zeros\n",
        "\n",
        "A= np.zeros(196)\n",
        "# on nomme  A pour np.zeros qui permet d'afficher les 196 zeros\n",
        "for e in range(1,28):\n",
        "#  on fait une boucle for  qui prend comme argument de 1 à 28 élève\n",
        "  for i in range (1,196):\n",
        "# on fait une boucle for qui  prend comme argument de 1 à 196 interrupteur\n",
        "    if i%e == 0:\n",
        "#   on utilise la condition si qu'on applique au résultat du reste de la division de i par e.\n",
        "      if A[i]==0 :\n",
        "# si le reste de la division est 0, alors,\n",
        "        A[i]=1\n",
        "# on  change la valeur de A et on affiche 1 à la place de 0 pour dire que l'interrupteur est allumé\n",
        "      else:\n",
        "# sinon\n",
        "        A[i]=0\n",
        "# le résultat de la division n'est pas 0, alors on affiche 0\n",
        "print(\"état des feux\")\n",
        "#  on affiche l'état des feux\n",
        "print(A)\n",
        "# on affiche A qui représente les feux et on peut donc voir si ils sont allumés ou pas.\n",
        "\n",
        "\n",
        "\n"
      ],
      "metadata": {
        "colab": {
          "base_uri": "https://localhost:8080/"
        },
        "id": "cHsJmMtnye-z",
        "outputId": "b045a7d0-0b44-4bad-f2df-a477394230f8"
      },
      "execution_count": null,
      "outputs": [
        {
          "output_type": "stream",
          "name": "stdout",
          "text": [
            "état des feux\n",
            "[0. 1. 0. 0. 1. 0. 0. 0. 0. 1. 0. 0. 0. 0. 0. 0. 1. 0. 0. 0. 0. 0. 0. 0.\n",
            " 0. 1. 0. 0. 1. 1. 1. 1. 1. 1. 1. 1. 0. 1. 1. 1. 1. 1. 1. 1. 1. 1. 1. 1.\n",
            " 1. 0. 1. 1. 1. 1. 1. 1. 0. 1. 0. 1. 0. 1. 0. 1. 1. 1. 0. 1. 0. 1. 0. 1.\n",
            " 0. 1. 0. 1. 0. 1. 0. 1. 0. 0. 0. 1. 1. 1. 0. 0. 0. 1. 1. 1. 0. 0. 0. 1.\n",
            " 1. 1. 0. 0. 1. 1. 1. 1. 0. 0. 0. 1. 1. 1. 0. 0. 1. 1. 1. 1. 1. 0. 0. 1.\n",
            " 0. 0. 0. 0. 1. 1. 1. 1. 1. 0. 0. 1. 0. 1. 0. 0. 1. 1. 1. 1. 0. 0. 0. 1.\n",
            " 1. 0. 0. 0. 1. 1. 0. 1. 1. 0. 0. 0. 0. 1. 0. 0. 0. 1. 1. 1. 1. 1. 0. 1.\n",
            " 1. 0. 1. 0. 1. 1. 0. 0. 1. 0. 0. 1. 0. 1. 0. 0. 1. 0. 0. 1. 1. 0. 1. 1.\n",
            " 1. 1. 0. 1.]\n"
          ]
        }
      ]
    },
    {
      "cell_type": "markdown",
      "source": [
        "### **4.1 - L'algorith"
      ],
      "metadata": {
        "id": "-KSJ4k24RvIC"
      }
    },
    {
      "cell_type": "markdown",
      "source": [
        "définor vecteur A\n",
        "pour"
      ],
      "metadata": {
        "id": "OxhJ7WGCDY47"
      }
    },
    {
      "cell_type": "markdown",
      "source": [
        "### **4.2 - Le programme Python**"
      ],
      "metadata": {
        "id": "oygHmWCCSB4X"
      }
    },
    {
      "cell_type": "code",
      "source": [
        "\n",
        "# comme pour le programe précédent\n",
        "import numpy as np\n",
        "A= np.zeros(196)\n",
        "for e in range(1,28):\n",
        "  for i in range (196):\n",
        "    if i%e == 0:\n",
        "      if A[i]==0 :\n",
        "        A[i]=1\n",
        "\n",
        "      else:\n",
        "        A[i]=0\n",
        "print(A)\n",
        "s=0\n",
        "# s est la somme  de tout les feux allumés\n",
        "for i in range(1,196):\n",
        "# on fait une boucle for i pour dire que le nombre d'interrupteur est de 1 à 196\n",
        "  if A[i]==1:\n",
        "# on teste l'égalité si la valeur de A est égale à 1\n",
        "    s=s+1\n",
        "#  on fait la somme de s + 1\n",
        "print(\"nombre de feux allumé\",s)\n",
        "# on affiche s le nombre de feux allumés\n",
        "\n"
      ],
      "metadata": {
        "id": "tW_1eNRGNvaU",
        "colab": {
          "base_uri": "https://localhost:8080/"
        },
        "outputId": "23ec887c-7a8d-4915-bf98-195c49241d9c"
      },
      "execution_count": null,
      "outputs": [
        {
          "output_type": "stream",
          "name": "stdout",
          "text": [
            "[1. 1. 0. 0. 1. 0. 0. 0. 0. 1. 0. 0. 0. 0. 0. 0. 1. 0. 0. 0. 0. 0. 0. 0.\n",
            " 0. 1. 0. 0. 1. 1. 1. 1. 1. 1. 1. 1. 0. 1. 1. 1. 1. 1. 1. 1. 1. 1. 1. 1.\n",
            " 1. 0. 1. 1. 1. 1. 1. 1. 0. 1. 0. 1. 0. 1. 0. 1. 1. 1. 0. 1. 0. 1. 0. 1.\n",
            " 0. 1. 0. 1. 0. 1. 0. 1. 0. 0. 0. 1. 1. 1. 0. 0. 0. 1. 1. 1. 0. 0. 0. 1.\n",
            " 1. 1. 0. 0. 1. 1. 1. 1. 0. 0. 0. 1. 1. 1. 0. 0. 1. 1. 1. 1. 1. 0. 0. 1.\n",
            " 0. 0. 0. 0. 1. 1. 1. 1. 1. 0. 0. 1. 0. 1. 0. 0. 1. 1. 1. 1. 0. 0. 0. 1.\n",
            " 1. 0. 0. 0. 1. 1. 0. 1. 1. 0. 0. 0. 0. 1. 0. 0. 0. 1. 1. 1. 1. 1. 0. 1.\n",
            " 1. 0. 1. 0. 1. 1. 0. 0. 1. 0. 0. 1. 0. 1. 0. 0. 1. 0. 0. 1. 1. 0. 1. 1.\n",
            " 1. 1. 0. 1.]\n",
            "nombre de feux allumé 105\n"
          ]
        }
      ]
    },
    {
      "cell_type": "markdown",
      "source": [
        "## **5 - Solution de niveau ☀☀**"
      ],
      "metadata": {
        "id": "Dzp51agBSNol"
      }
    },
    {
      "cell_type": "markdown",
      "source": [
        "### **5.1 - L'algorithme**\n",
        "\n",
        "C'est à vous !"
      ],
      "metadata": {
        "id": "1qxfAUCzSNom"
      }
    },
    {
      "cell_type": "markdown",
      "source": [
        "### **5.2 - Le programme Python**"
      ],
      "metadata": {
        "id": "2vCQrJxFSNom"
      }
    },
    {
      "cell_type": "code",
      "source": [
        "# comme pour le code numéro1\n",
        "import numpy as np\n",
        "# e est la variable d'élève. on demande que ce nombre d'élève puisse être entré et que ce soit des entiers\n",
        "E= int (input(\"taper votre nombre d'élèves  \"))\n",
        "# on fait la même chose mais pour le nombre d'interrupteur.\n",
        "N= int (input( \"taper votre nombre d'interrupteur   \"))\n",
        "A= np.zeros(N)\n",
        "# on fait une boucle qui  va de 1 à E\n",
        "for e in range(1,E):\n",
        "# on fait une boucle qui va de 1 à N\n",
        "  for i in range (N):\n",
        "    if i%e == 0:\n",
        "      if A[i]==0 :\n",
        "        A[i]=1\n",
        "      else:\n",
        "        A[i]=0\n",
        "print(A)\n",
        "#  on met la somme des interrupteurs allumés à O\n",
        "s=0\n",
        "# on fait une boucle qui qui va de 1 à N qui est le nombre d'interrupteur que l'on a entré\n",
        "for i in range(1,N):\n",
        "# si A de (i) est égale 1 alors\n",
        "  if A[i]==1:\n",
        "#  on ajoute donc 1 à s qui est la  somme des interrupteurs\n",
        "    s=s+1\n",
        "print( \"nombre d'interrupteurs allumés\",s)\n",
        "#on donne  l comme valeur d'une liste\n",
        "l=list=[]\n",
        "# on fait une boucle qui va de 1 à N\n",
        "for i in range (1,N):\n",
        "#  on test si i est égale à 1\n",
        "  if A[i]==1 :\n",
        "  # on ajoute grace à append le nombre qui vient d'être allumé dans la liste\n",
        "    list.append(i+1)\n",
        "print(\"la liste des interrupteurs allumés\",l)\n",
        "# on remarque que si on met le nombres d'élève et le nombre d'intérupteur à 196, chaque intérupteur allumé sera séparé par 2 interrupteurs pas allumés de plus"
      ],
      "metadata": {
        "id": "09U0oLQnSNom",
        "colab": {
          "base_uri": "https://localhost:8080/"
        },
        "outputId": "64f1ea7b-857f-4473-cee0-73d7e70065dc"
      },
      "execution_count": null,
      "outputs": [
        {
          "output_type": "stream",
          "name": "stdout",
          "text": [
            "taper votre nombre d'évlèves  12\n",
            "taper votre nombre d'intérupteur   13\n",
            "[1. 1. 0. 0. 1. 0. 0. 0. 0. 1. 0. 0. 1.]\n",
            "nombres d'intérupteurs alumer 4\n",
            "la liste des intérupteur alumer [2, 5, 10, 13]\n"
          ]
        }
      ]
    },
    {
      "cell_type": "markdown",
      "source": [
        "## **6 - Solution de niveau ☀☀☀**"
      ],
      "metadata": {
        "id": "_MqvKSdDSWeV"
      }
    },
    {
      "cell_type": "markdown",
      "source": [
        "### **6.1 - L'algorithme**\n",
        "\n",
        "C'est à vous !"
      ],
      "metadata": {
        "id": "fSENwRH-SWeY"
      }
    },
    {
      "cell_type": "markdown",
      "source": [
        "### **6.2 - Le programme Python**"
      ],
      "metadata": {
        "id": "lzHO-ScESWeY"
      }
    },
    {
      "cell_type": "code",
      "source": [
        "import numpy as np\n",
        "# on fait comme précédement\n",
        "E= int (input(\"taper votre nombre d'élèves  \"))\n",
        "N= int (input( \"taper votre nombre d'interrupteurs   \"))\n",
        "A= np.zeros(N)\n",
        "for e in range(1,E):\n",
        "  for i in range (1,N):\n",
        "    if i%e == 1:\n",
        "      if A[i]==0 :\n",
        "        A[i]=1\n",
        "      else:\n",
        "        A[i]=1\n",
        "print(A)\n",
        "s=0\n",
        "for i in range(0,N):\n",
        "  if A[i]==1:\n",
        "    s=s+1\n",
        "print( \"nombrs d'interrupteurs allumés\",s)\n",
        "l=list=[]\n",
        "for i in range (1,N):\n",
        "  if A[i]==1 :\n",
        "    list.append(i+1)\n",
        "print(\"la liste des interrupteurs allumés\",l)\n",
        "# on importe de la bibliothèque matplotlib.pyplot qui nous permet de créer un graphique\n",
        "import matplotlib.pyplot as plt\n",
        "# on dit  d'afficher dans le graphique A si l'interrupteur est allumé et donc si il est égale à 1\n",
        "plt.plot(A)\n",
        "plt.show()"
      ],
      "metadata": {
        "id": "8euvwNldSWeY",
        "colab": {
          "base_uri": "https://localhost:8080/",
          "height": 519
        },
        "outputId": "28bc85ca-6d97-4c53-be9b-6314fbc6cde9"
      },
      "execution_count": null,
      "outputs": [
        {
          "output_type": "stream",
          "name": "stdout",
          "text": [
            "taper votre nombre d'évlèves  12\n",
            "taper votre nombre d'intérupteur   13\n",
            "[0. 1. 0. 1. 1. 1. 1. 1. 1. 1. 1. 1. 1.]\n",
            "nombres d'intérupteurs alumer 11\n",
            "la liste des intérupteur alumer [2, 4, 5, 6, 7, 8, 9, 10, 11, 12, 13]\n"
          ]
        },
        {
          "output_type": "display_data",
          "data": {
            "text/plain": [
              "<Figure size 640x480 with 1 Axes>"
            ],
            "image/png": "[encoded data removed]"
          },
          "metadata": {}
        }
      ]
    }
  ]
}